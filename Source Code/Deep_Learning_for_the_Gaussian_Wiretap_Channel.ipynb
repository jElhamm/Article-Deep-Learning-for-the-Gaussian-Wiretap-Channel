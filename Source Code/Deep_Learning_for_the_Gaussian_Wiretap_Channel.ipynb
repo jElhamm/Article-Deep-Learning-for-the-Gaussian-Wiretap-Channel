{
  "cells": [
    {
      "cell_type": "code",
      "execution_count": 1,
      "metadata": {
        "id": "_b9uQ449TWVP"
      },
      "outputs": [],
      "source": [
        "#***********************************************************************************************************************************************\n",
        "#                                                                                                                                              *\n",
        "#                                                 Deep Learning for the Gaussian Wiretap Channel                                               *\n",
        "#                              This code implements a communication system that utilizes autoencoder models for secure communication.          *\n",
        "#          The system includes an encoder, Bob's decoder, and Eve's decoder that are trained to communicate securely over a noisy channel.     *\n",
        "#                                                                                                                                              *\n",
        "#   Here is a brief explanation of the code:                                                                                                   *\n",
        "#                                                                                                                                              *\n",
        "# - The code first sets up the necessary libraries, constants, and definitions for the neural network models.                                  *\n",
        "# - It defines utility functions, layers, and models for the encoder and decoders.                                                             *\n",
        "# - It includes training methods for training Bob and Eve's decoders, as well as for the security training phase using k-means clustering.     *\n",
        "# - Evaluation functions to calculate Bit Error Rates for different Signal-to-Noise Ratios (SNR) are included.                                 *\n",
        "# - The code also includes functions for testing and visualization, such as plotting loss and encoding patterns.                               *\n",
        "# - It tests the autoencoder models with normal data, then creates a secure encoding using k-means clustering.                                 *\n",
        "#   for the security procedure and tests the secure communication.                                                                             *\n",
        "# - the results are visualized in a plot showing the Symbol Error Rate versus SNR for Bob and Eve in both the traditional and secure setups.   *\n",
        "#                                                                                                                                              *\n",
        "#***********************************************************************************************************************************************"
      ]
    },
    {
      "cell_type": "code",
      "execution_count": 4,
      "metadata": {
        "id": "YwiOkPteVNgm"
      },
      "outputs": [],
      "source": [
        "import sys\n",
        "import numpy as np\n",
        "import pandas as pd\n",
        "import tensorflow as tf\n",
        "import matplotlib as mpl\n",
        "from scipy import special\n",
        "from tensorflow import keras\n",
        "import matplotlib.pyplot as plt\n",
        "from sklearn.preprocessing import OneHotEncoder\n",
        "from EqualGroupsKMeans import EqualGroupsKMeans\n",
        "\n",
        "# Initialize random seeds AND Define Constants\n",
        "np.random.seed(42)\n",
        "tf.random.set_seed(42)\n",
        "M = 16\n",
        "n = 16\n",
        "k = int(np.log2(M))\n",
        "M_sec = 4\n",
        "SAMPLE_SIZE = 50000\n",
        "TRAINING_SNR = 10\n",
        "messages = np.random.randint(M, size=SAMPLE_SIZE)                            # Generate random messages\n",
        "one_hot_encoder = OneHotEncoder(sparse_output=False, categories=[range(M)])  # Encode messages using OneHotEncoder\n",
        "data_oneH = one_hot_encoder.fit_transform(messages.reshape(-1, 1))"
      ]
    }
  ],
  "metadata": {
    "colab": {
      "provenance": []
    },
    "kernelspec": {
      "display_name": "Python 3",
      "name": "python3"
    },
    "language_info": {
      "name": "python"
    }
  },
  "nbformat": 4,
  "nbformat_minor": 0
}
